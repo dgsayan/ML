{
 "cells": [
  {
   "cell_type": "markdown",
   "metadata": {},
   "source": [
    "### Recursion"
   ]
  },
  {
   "cell_type": "markdown",
   "metadata": {},
   "source": [
    "In Recursion you are describing the task in terms of itself\n",
    "\n",
    "Makes for an elegant way to write complex computer programs\n",
    "\n",
    "In functional programming paradigm (eg:Haskell), Recursion is the primary style of coding "
   ]
  },
  {
   "cell_type": "code",
   "execution_count": 1,
   "metadata": {},
   "outputs": [],
   "source": [
    "# Print 5 stars using i)loop and ii)recursion\n",
    "\n",
    "# i\n",
    "print(\"for-loop\")\n",
    "for i in range(5):\n",
    "    print(\"*\")\n",
    "    \n",
    "# ii\n",
    "print('recursion')\n",
    "def printStars(n=5):\n",
    "    if n>0:\n",
    "        print(\"*\")\n",
    "        printStars(n-1)\n",
    "\n",
    "printStars(5)\n"
   ]
  },
  {
   "cell_type": "code",
   "execution_count": 2,
   "metadata": {},
   "outputs": [],
   "source": [
    "# Write a power function using loop and recursion\n",
    "\n",
    "def power(base, exp):\n",
    "    res = 1\n",
    "    for i in range(1, exp+1):\n",
    "        res *= base\n",
    "    return res\n",
    "\n",
    "# test\n",
    "print(\"for loop:\", power(9, 4))\n",
    "\n",
    "\n",
    "def power(base, exp):                               \n",
    "    if exp == 0:\n",
    "        return 1\n",
    "    else:\n",
    "        return base*power(base, exp-1)\n",
    "\n",
    "# test\n",
    "print(\"recursion:\", power(9, 4))\n"
   ]
  },
  {
   "cell_type": "markdown",
   "metadata": {},
   "source": [
    "What is recursion doing?\n",
    "The call stack. Each previous call waits for the next call to finish."
   ]
  },
  {
   "cell_type": "markdown",
   "metadata": {},
   "source": [
    "Infinite recursion error: when the function does not stop calling itself. In memory it leads to a stack overflow of the function call stack."
   ]
  },
  {
   "cell_type": "markdown",
   "metadata": {},
   "source": [
    "Loops v/s recursion: Both can find use depending on the situation."
   ]
  },
  {
   "cell_type": "code",
   "execution_count": 3,
   "metadata": {},
   "outputs": [],
   "source": [
    "# handling infinite recursion error"
   ]
  },
  {
   "cell_type": "code",
   "execution_count": 4,
   "metadata": {},
   "outputs": [
    {
     "name": "stdout",
     "output_type": "stream",
     "text": [
      "False\n",
      "True\n",
      "True\n"
     ]
    }
   ],
   "source": [
    "# Write an 'isPalindrome' function which returns True if a string input is a palindrome\n",
    "\n",
    "def isPalindrome(s):\n",
    "    if len(s) <= 1:\n",
    "        return True\n",
    "    else:\n",
    "        if s[0] == s[-1]:\n",
    "            return isPalindrome(s[1:-1])\n",
    "        else:\n",
    "            return False\n",
    "    \n",
    "\n",
    "# test\n",
    "print(isPalindrome('sayan'))\n",
    "print(isPalindrome('nayan'))\n",
    "print(isPalindrome('malayalam'))\n"
   ]
  },
  {
   "cell_type": "code",
   "execution_count": 5,
   "metadata": {},
   "outputs": [
    {
     "name": "stdout",
     "output_type": "stream",
     "text": [
      "0\n",
      "101011\n",
      "-101011\n"
     ]
    }
   ],
   "source": [
    "# Write a function to return the binary representation of an integer\n",
    "\n",
    "def printBinary(n):\n",
    "    if n < 0:\n",
    "        return -1*printBinary(-n)\n",
    "    if n<=1:\n",
    "        return n\n",
    "    return printBinary(n//2)*10 + n%2\n",
    "\n",
    "# test\n",
    "print(printBinary(0))\n",
    "print(printBinary(43))\n",
    "print(printBinary(-43))\n"
   ]
  },
  {
   "cell_type": "code",
   "execution_count": 6,
   "metadata": {},
   "outputs": [
    {
     "data": {
      "text/plain": [
       "'nayas'"
      ]
     },
     "execution_count": 6,
     "metadata": {},
     "output_type": "execute_result"
    }
   ],
   "source": [
    "# Write a function to reverse a string\n",
    "\n",
    "def reverseString(s):\n",
    "    if len(s) <= 1:\n",
    "        return s\n",
    "    return s[-1] + reverseString(s[:-1])\n",
    "\n",
    "# test\n",
    "reverseString('sayan')\n"
   ]
  },
  {
   "cell_type": "code",
   "execution_count": 7,
   "metadata": {},
   "outputs": [],
   "source": [
    "# Write a function to crawl a given path and print all directories and files within it\n",
    "# a directory path is an arbitrarily nested structure\n",
    "\n",
    "import os\n",
    "\n",
    "def crawl(path, indent = ''):\n",
    "    print(indent, os.path.basename(path))     # base case: print for both directory and file\n",
    "    if os.path.isdir(path):                   # recursive case: if directory crawl contents within it\n",
    "        for i in os.listdir(path):\n",
    "            crawl(path+'\\\\'+i, indent + ' ')  # increment indent see file nesting in the printed output\n",
    "\n",
    "# test\n",
    "# crawl(r'C:\\Users\\sdg\\Documents\\slide')\n"
   ]
  },
  {
   "cell_type": "code",
   "execution_count": 11,
   "metadata": {},
   "outputs": [
    {
     "data": {
      "image/png": "[encoded data removed]",
      "text/plain": [
       "<Figure size 432x288 with 1 Axes>"
      ]
     },
     "metadata": {
      "needs_background": "light"
     },
     "output_type": "display_data"
    }
   ],
   "source": [
    "# Write a function to draw a Cantor Set\n",
    "# Cantor Set is a fractal created by iteratively deleting the middle thirds in subsequent levels of a line segment \n",
    "\n",
    "# Fractal: A self-similar mathematical set that can often be drawn as a recurring graphical pattern\n",
    "\n",
    "import matplotlib.pyplot as plt\n",
    "\n",
    "def cantorSet(level, y, x1, x2): \n",
    "    if level > 0:\n",
    "        plt.hlines(y, x1, x2)\n",
    "        cantorSet(level-1, y-1, x1, x1 + (x2-x1)/3)\n",
    "        cantorSet(level-1, y-1, x2 - (x2-x1)/3, x2)\n",
    "        \n",
    "        \n",
    "# test\n",
    "cantorSet(5, 5, 0, 10)\n"
   ]
  },
  {
   "cell_type": "code",
   "execution_count": 21,
   "metadata": {},
   "outputs": [
    {
     "name": "stdout",
     "output_type": "stream",
     "text": [
      "-1\n",
      "4\n"
     ]
    }
   ],
   "source": [
    "# Binary Search Tree\n",
    "# return the index of a number in a sorted array\n",
    "\n",
    "def bst(arr, num, start, end):\n",
    "    mid = (start+end)//2\n",
    "    if start > end:\n",
    "        return -1                            # num not found in arr\n",
    "    elif num == arr[mid]:\n",
    "        return mid\n",
    "    elif num < mid:\n",
    "        return bst(arr, num, start, mid-1)   \n",
    "    else:\n",
    "        return bst(arr, num, mid+1, end)\n",
    "\n",
    "# test\n",
    "arr = [10, 11, 12, 13, 14, 15]\n",
    "print(bst(arr, 6, 0, len(arr)-1))\n",
    "print(bst(arr, 14, 0, len(arr)-1))\n"
   ]
  },
  {
   "cell_type": "code",
   "execution_count": null,
   "metadata": {},
   "outputs": [],
   "source": []
  }
 ],
 "metadata": {
  "kernelspec": {
   "display_name": "Python 3",
   "language": "python",
   "name": "python3"
  },
  "language_info": {
   "codemirror_mode": {
    "name": "ipython",
    "version": 3
   },
   "file_extension": ".py",
   "mimetype": "text/x-python",
   "name": "python",
   "nbconvert_exporter": "python",
   "pygments_lexer": "ipython3",
   "version": "3.8.5"
  }
 },
 "nbformat": 4,
 "nbformat_minor": 4
}

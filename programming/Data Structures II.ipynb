{
 "cells": [
  {
   "cell_type": "markdown",
   "metadata": {},
   "source": [
    "### Data Structures continued"
   ]
  },
  {
   "cell_type": "markdown",
   "metadata": {},
   "source": [
    "The following Data Structures are explored below:\n",
    "   - Tree\n",
    "   - Graphs"
   ]
  },
  {
   "cell_type": "markdown",
   "metadata": {},
   "source": [
    "**Tree**\n",
    "\n",
    "A tree is a directed acyclic structure of linked nodes. \n",
    "Directed: has one-way links between nodes. \n",
    "Acyclic: No path wraps back around to the same node twice.\n",
    "\n",
    "A Binary Tree is one where each node has at most two children.\n",
    "\n",
    "Recursive definition of a binary tree: it is either -\n",
    "- empty (NULL), or\n",
    "- a root node that contains\n",
    "    - data\n",
    "    - left subtree\n",
    "    - right subtree\n",
    "    \n",
    "Trees in computer science: folders/files on a computer, AI: decision trees, compiler: parse tree, auto-completion"
   ]
  },
  {
   "cell_type": "markdown",
   "metadata": {},
   "source": [
    "Terminology:\n",
    "\n",
    "Node: an object containing a data value and left/right children\n",
    "\n",
    "Root: topmost node of a tree\n",
    "\n",
    "Leaf: a node that has no children\n",
    "\n",
    "Branch: any internal node, neither the root nor a leaf\n",
    "\n",
    "Parent: a node that refers to the current node\n",
    "\n",
    "Child: a node that the current node refers to\n",
    "\n",
    "Subtree: the smaller tree of nodes on the left or right of the current node\n",
    "\n",
    "Height: length of the longest path from root to any node\n",
    "\n",
    "Level or depth: length of the path from a root to a given node"
   ]
  },
  {
   "cell_type": "code",
   "execution_count": 10,
   "metadata": {},
   "outputs": [],
   "source": [
    "# Implementation\n",
    "\n",
    "class TreeNode:\n",
    "    def __init__(self, data, left = None, right = None):\n",
    "        self.data = data\n",
    "        self.left = left\n",
    "        self.right = right\n",
    "        \n",
    "    def set_left(self, left):\n",
    "        self.left = left\n",
    "    \n",
    "    def set_right(self, right):\n",
    "        self.right = right\n"
   ]
  },
  {
   "cell_type": "code",
   "execution_count": 71,
   "metadata": {},
   "outputs": [],
   "source": [
    "j = TreeNode(50)"
   ]
  },
  {
   "cell_type": "code",
   "execution_count": 72,
   "metadata": {},
   "outputs": [],
   "source": [
    "j.set_left(TreeNode(40))\n",
    "j.set_right(TreeNode(60))"
   ]
  },
  {
   "cell_type": "code",
   "execution_count": 73,
   "metadata": {},
   "outputs": [],
   "source": [
    "j.left.set_left(TreeNode(7))\n",
    "j.left.set_right(TreeNode(9))"
   ]
  },
  {
   "cell_type": "code",
   "execution_count": 74,
   "metadata": {},
   "outputs": [
    {
     "data": {
      "text/plain": [
       "9"
      ]
     },
     "execution_count": 74,
     "metadata": {},
     "output_type": "execute_result"
    }
   ],
   "source": [
    "j.left.right.data"
   ]
  },
  {
   "cell_type": "code",
   "execution_count": 18,
   "metadata": {},
   "outputs": [
    {
     "data": {
      "text/plain": [
       "<__main__.TreeNode at 0x2a234d55e20>"
      ]
     },
     "execution_count": 18,
     "metadata": {},
     "output_type": "execute_result"
    }
   ],
   "source": [
    "j.left"
   ]
  },
  {
   "cell_type": "code",
   "execution_count": 19,
   "metadata": {},
   "outputs": [
    {
     "data": {
      "text/plain": [
       "50"
      ]
     },
     "execution_count": 19,
     "metadata": {},
     "output_type": "execute_result"
    }
   ],
   "source": [
    "j.data"
   ]
  },
  {
   "cell_type": "code",
   "execution_count": 225,
   "metadata": {},
   "outputs": [],
   "source": [
    "class BinaryTree:\n",
    "    def __init__(self, tree = None):\n",
    "        self.data = tree.data\n",
    "        self.left = tree.left \n",
    "        self.right = tree.right\n",
    "        \n",
    "    def printTree(self):\n",
    "        self.printTreeHelper(self)\n",
    "            \n",
    "    def printTreeHelper(self, tree):\n",
    "        if tree != None:\n",
    "            self.printTreeHelper(tree.left)\n",
    "            print(tree.data)\n",
    "            self.printTreeHelper(tree.right)\n",
    "        \n",
    "    def contains(self, val):\n",
    "        return self.containsHelper(self, val)\n",
    "    \n",
    "    def containsHelper(self, tree, val):\n",
    "        if tree != None:\n",
    "            if val == tree.data:\n",
    "                return True\n",
    "            return (self.containsHelper(tree.left, val) or self.containsHelper(tree.right, val))\n",
    "        return False\n",
    "        \n",
    "        \n",
    "    def printSideways(self):   \n",
    "    # prints tree in sideways - right nodes above roots above left nodes, with 4 space indent for subsequent level\n",
    "        self.printSidewaysHelper(self, '')\n",
    "        \n",
    "    def printSidewaysHelper(self, tree, indent):\n",
    "        if tree != None:\n",
    "            self.printSidewaysHelper(tree.right, indent+'    ')\n",
    "            print(indent, tree.data)\n",
    "            self.printSidewaysHelper(tree.left, indent+'    ')\n",
    "    \n",
    "    "
   ]
  },
  {
   "cell_type": "code",
   "execution_count": 226,
   "metadata": {},
   "outputs": [],
   "source": [
    "k = BinaryTree(j)"
   ]
  },
  {
   "cell_type": "code",
   "execution_count": 205,
   "metadata": {},
   "outputs": [
    {
     "name": "stdout",
     "output_type": "stream",
     "text": [
      "7\n",
      "40\n",
      "9\n",
      "50\n",
      "60\n"
     ]
    }
   ],
   "source": [
    "k.printTree()"
   ]
  },
  {
   "cell_type": "code",
   "execution_count": 199,
   "metadata": {},
   "outputs": [
    {
     "data": {
      "text/plain": [
       "False"
      ]
     },
     "execution_count": 199,
     "metadata": {},
     "output_type": "execute_result"
    }
   ],
   "source": [
    "k.contains(11)"
   ]
  },
  {
   "cell_type": "code",
   "execution_count": 191,
   "metadata": {},
   "outputs": [
    {
     "data": {
      "text/plain": [
       "50"
      ]
     },
     "execution_count": 191,
     "metadata": {},
     "output_type": "execute_result"
    }
   ],
   "source": [
    "j.data"
   ]
  },
  {
   "cell_type": "code",
   "execution_count": 227,
   "metadata": {},
   "outputs": [
    {
     "name": "stdout",
     "output_type": "stream",
     "text": [
      "     60\n",
      " 50\n",
      "         9\n",
      "     40\n",
      "         7\n"
     ]
    }
   ],
   "source": [
    "k.printSideways()"
   ]
  },
  {
   "cell_type": "code",
   "execution_count": 228,
   "metadata": {},
   "outputs": [],
   "source": [
    "# adding in a binary search tree"
   ]
  }
 ],
 "metadata": {
  "kernelspec": {
   "display_name": "Python 3",
   "language": "python",
   "name": "python3"
  },
  "language_info": {
   "codemirror_mode": {
    "name": "ipython",
    "version": 3
   },
   "file_extension": ".py",
   "mimetype": "text/x-python",
   "name": "python",
   "nbconvert_exporter": "python",
   "pygments_lexer": "ipython3",
   "version": "3.8.5"
  }
 },
 "nbformat": 4,
 "nbformat_minor": 4
}

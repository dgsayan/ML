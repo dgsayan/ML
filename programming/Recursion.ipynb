{
 "cells": [
  {
   "cell_type": "code",
   "execution_count": 1,
   "metadata": {},
   "outputs": [],
   "source": [
    "# plus 1 using recursion\n",
    "\n",
    "def plusOne(digits, n):\n",
    "    if digits[0] == 0 and n == -1:\n",
    "        return [1] + digits\n",
    "    elif digits[n] < 9:\n",
    "        digits[n] += 1\n",
    "        return digits\n",
    "    else:\n",
    "        digits[n] = 0\n",
    "        return plusOne(digits, n-1)\n",
    "        "
   ]
  },
  {
   "cell_type": "code",
   "execution_count": 2,
   "metadata": {},
   "outputs": [],
   "source": [
    "digits = [9, 9, 9]"
   ]
  },
  {
   "cell_type": "code",
   "execution_count": 3,
   "metadata": {},
   "outputs": [
    {
     "data": {
      "text/plain": [
       "[1, 0, 0, 0]"
      ]
     },
     "execution_count": 3,
     "metadata": {},
     "output_type": "execute_result"
    }
   ],
   "source": [
    "plusOne(digits, len(digits)-1)"
   ]
  },
  {
   "cell_type": "code",
   "execution_count": 106,
   "metadata": {},
   "outputs": [],
   "source": [
    "# reverse a string using recursion\n",
    "\n",
    "def reverseString(s):\n",
    "    if len(s) == 1:\n",
    "        return s\n",
    "    else:\n",
    "        return s[-1] + reverseString(s[:-1])"
   ]
  },
  {
   "cell_type": "code",
   "execution_count": 107,
   "metadata": {},
   "outputs": [
    {
     "data": {
      "text/plain": [
       "'nayas'"
      ]
     },
     "execution_count": 107,
     "metadata": {},
     "output_type": "execute_result"
    }
   ],
   "source": [
    "reverseString('sayan')"
   ]
  },
  {
   "cell_type": "code",
   "execution_count": 108,
   "metadata": {},
   "outputs": [],
   "source": [
    "s = 'sayan'"
   ]
  },
  {
   "cell_type": "code",
   "execution_count": 112,
   "metadata": {},
   "outputs": [
    {
     "data": {
      "text/plain": [
       "'nayas'"
      ]
     },
     "execution_count": 112,
     "metadata": {},
     "output_type": "execute_result"
    }
   ],
   "source": [
    "s[::-1]"
   ]
  },
  {
   "cell_type": "code",
   "execution_count": null,
   "metadata": {},
   "outputs": [],
   "source": [
    "# reverse a string using recursion\n",
    "\n",
    "def reverseString(s):\n",
    "    if len(s) == 1:\n",
    "        return s\n",
    "    else:\n",
    "        return s[-1] + reverseString(s[:-1])\n",
    "\n",
    "reverseString('sayan')\n",
    "\n",
    "s = 'sayan'\n",
    "\n",
    "s[::-1]"
   ]
  }
 ],
 "metadata": {
  "kernelspec": {
   "display_name": "Python 3",
   "language": "python",
   "name": "python3"
  },
  "language_info": {
   "codemirror_mode": {
    "name": "ipython",
    "version": 3
   },
   "file_extension": ".py",
   "mimetype": "text/x-python",
   "name": "python",
   "nbconvert_exporter": "python",
   "pygments_lexer": "ipython3",
   "version": "3.8.5"
  }
 },
 "nbformat": 4,
 "nbformat_minor": 4
}

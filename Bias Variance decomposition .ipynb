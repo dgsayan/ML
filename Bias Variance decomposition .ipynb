{
 "cells": [
  {
   "cell_type": "markdown",
   "metadata": {},
   "source": [
    "## **Background** \n",
    "\n",
    "In Machine Learning we try to minimise training error, with the hope that it will generalise to the test error. Here, we take a look at and decompose the generalization error.\n",
    "\n",
    "**Setup**\n",
    "\n",
    "(Illustrated on a regression problem, valid in other settings as well)\n",
    "\n",
    "Algorithm : $A$\n",
    "\n",
    "Test point : $x,y$\n",
    "\n",
    "Distribution : $D = \\{(x_1, y_1), (x_2, y_2),.......,(x_n, y_n)\\}$\n",
    "\n",
    "The expected label of y is : $\\bar y(x) = E_{y|x}(y) = \\int y.P(y|x).dy$\n",
    "\n",
    "Trained model of an algorithm on the distribution : $h_d = A(D)$\n",
    "\n",
    "Expected test error (given $h_d$) : $E_{x,y \\rightarrow P}[(h_d(x) - y)^2]$ = $\\int_{x}\\int_{y}[h_d(x) - y]^2.P(x,y).dy.dx$\n",
    "\n",
    "D drawn from n random variables (pair x,y) and is itself a random variable. Therefore h is also a random variable.\n",
    "\n",
    "Expected model h : $\\bar h = E_{D\\rightarrow p^n}[A(D)] = \\int_D h_D. P(D).dD$\n",
    "\n",
    "Expected error of algorithm $A$ for a test point x, y : $E_{(x,y)\\rightarrow P}[(h_D(x) -y)^2]$ = $\\int_D \\int_x \\int_y [h_D(x) - y]^2. P(x,y).P(D).dy.dx.dD$\n",
    "\n",
    "**Error Decomposition**\n",
    "\n",
    "$E_{(x,y)\\rightarrow P} [(h_D(x) - y)^2]$\n",
    "\n",
    "= $E_{x,y,D}[(h_D(x) - \\bar h(x) + \\bar h(x) - y)^2]$\n",
    "\n",
    "= $E[(h_D(x) - \\bar h(x))^2] + E[(\\bar h(x) - y)^2] + 2.E[(h_D(x) - \\bar h(x)).(\\bar h(x) - y)]$\n",
    "\n",
    "In the above line has the terms $a^2$, $b^2$, $2ab$\n",
    "\n",
    "lets focus on the 2ab term: $2.E_{(x,y),D}[(h_D(x) - \\bar h(x)).(\\bar h(x) - y)]$\n",
    "\n",
    "= $2.E_{(x,y)}[(E_D[h_D(x)] - \\bar h(x))(\\bar h(x) - y)]$\n",
    "\n",
    "= $2.E_{(x,y)}[(\\bar h(x) - \\bar h(x))(\\bar h(x) - y)]$\n",
    "\n",
    "= 0\n",
    "\n",
    "lets focus on the $b^2$ term: $E[(\\bar h(x) - y)^2]$\n",
    "\n",
    "= $E[[(\\bar h(x) - \\bar y(x)) + (\\bar y(x) - y)]^2]$\n",
    "\n",
    "= "
   ]
  }
 ],
 "metadata": {
  "kernelspec": {
   "display_name": "Python 3",
   "language": "python",
   "name": "python3"
  },
  "language_info": {
   "codemirror_mode": {
    "name": "ipython",
    "version": 3
   },
   "file_extension": ".py",
   "mimetype": "text/x-python",
   "name": "python",
   "nbconvert_exporter": "python",
   "pygments_lexer": "ipython3",
   "version": "3.8.5"
  }
 },
 "nbformat": 4,
 "nbformat_minor": 4
}

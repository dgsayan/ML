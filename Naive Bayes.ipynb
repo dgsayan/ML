{
 "cells": [
  {
   "cell_type": "markdown",
   "metadata": {},
   "source": [
    "## Naive Bayes algorithm\n",
    "\n",
    "### 1. Concept\n",
    "\n",
    "1.1 <ins>Assumption</ins>: Feature values are independent given label. This allows the Generative probability, $p(X|Y)$, to be estimated as\n",
    "$$ P(X|Y) = \\prod_{\\alpha = 1}^d P(x_\\alpha | y);\\hspace{2ex}$$\n",
    "In the above equation, $x_\\alpha$ is the value for feature $\\alpha$\n",
    "\n",
    "1.2. <ins>Classification rule</ins>: The probabilities are estimated from data using the Bayes rule, the Naive Bayes assumption and the Bayes optimal classifier\n",
    "\n",
    "\n",
    "$$ P(Y|X) = \\frac{P(X|Y)P(Y)}{P(X)} $$"
   ]
  },
  {
   "cell_type": "code",
   "execution_count": null,
   "metadata": {},
   "outputs": [],
   "source": []
  }
 ],
 "metadata": {
  "kernelspec": {
   "display_name": "Python 3",
   "language": "python",
   "name": "python3"
  },
  "language_info": {
   "codemirror_mode": {
    "name": "ipython",
    "version": 3
   },
   "file_extension": ".py",
   "mimetype": "text/x-python",
   "name": "python",
   "nbconvert_exporter": "python",
   "pygments_lexer": "ipython3",
   "version": "3.8.5"
  }
 },
 "nbformat": 4,
 "nbformat_minor": 4
}
